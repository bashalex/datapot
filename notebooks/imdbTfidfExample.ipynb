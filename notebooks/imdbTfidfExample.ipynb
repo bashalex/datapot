{
 "cells": [
  {
   "cell_type": "code",
   "execution_count": 1,
   "metadata": {
    "collapsed": false
   },
   "outputs": [
    {
     "name": "stderr",
     "output_type": "stream",
     "text": [
      "/usr/local/lib/python3.5/dist-packages/gensim/utils.py:1015: UserWarning: Pattern library is not installed, lemmatization won't be available.\n",
      "  warnings.warn(\"Pattern library is not installed, lemmatization won't be available.\")\n"
     ]
    }
   ],
   "source": [
    "import sys\n",
    "sys.path.append('../')\n",
    "import datapot as dp"
   ]
  },
  {
   "cell_type": "code",
   "execution_count": 2,
   "metadata": {
    "collapsed": false
   },
   "outputs": [
    {
     "data": {
      "text/plain": [
       "DataPot class instance\n",
       " - number of features without transformation: 0\n",
       " - number of new features: Unknown\n",
       "features to transform: "
      ]
     },
     "execution_count": 2,
     "metadata": {},
     "output_type": "execute_result"
    }
   ],
   "source": [
    "data = dp.DataPot()\n",
    "data"
   ]
  },
  {
   "cell_type": "code",
   "execution_count": 3,
   "metadata": {
    "collapsed": false
   },
   "outputs": [
    {
     "ename": "IOError",
     "evalue": "[Errno 2] No such file or directory: '/home/yury/MLContests/KaggleWord2Vec/data/imdbHTMLReviewsTrainData_byline.json'",
     "output_type": "error",
     "traceback": [
      "\u001b[0;31m---------------------------------------------------------------------------\u001b[0m",
      "\u001b[0;31mIOError\u001b[0m                                   Traceback (most recent call last)",
      "\u001b[0;32m<ipython-input-3-540c5e402fb1>\u001b[0m in \u001b[0;36m<module>\u001b[0;34m()\u001b[0m\n\u001b[0;32m----> 1\u001b[0;31m \u001b[0mtrain\u001b[0m \u001b[0;34m=\u001b[0m \u001b[0mopen\u001b[0m\u001b[0;34m(\u001b[0m\u001b[0;34m'/home/yury/MLContests/KaggleWord2Vec/data/imdbHTMLReviewsTrainData_byline.json'\u001b[0m\u001b[0;34m,\u001b[0m \u001b[0;34m'r'\u001b[0m\u001b[0;34m)\u001b[0m\u001b[0;34m\u001b[0m\u001b[0m\n\u001b[0m",
      "\u001b[0;31mIOError\u001b[0m: [Errno 2] No such file or directory: '/home/yury/MLContests/KaggleWord2Vec/data/imdbHTMLReviewsTrainData_byline.json'"
     ]
    }
   ],
   "source": [
    "# TODO: change it!\n",
    "train = open('/home/yury/MLContests/KaggleWord2Vec/data/imdbHTMLReviewsTrainData_byline.json', 'r')"
   ]
  },
  {
   "cell_type": "code",
   "execution_count": 4,
   "metadata": {
    "collapsed": false
   },
   "outputs": [
    {
     "data": {
      "text/plain": [
       "DataPot class instance\n",
       " - number of features without transformation: 3\n",
       " - number of new features: 12\n",
       "features to transform: \n",
       "\t('review', [TfidfTransformer])"
      ]
     },
     "execution_count": 4,
     "metadata": {},
     "output_type": "execute_result"
    }
   ],
   "source": [
    "data.fit(train, limit=10)\n",
    "data"
   ]
  },
  {
   "cell_type": "code",
   "execution_count": 5,
   "metadata": {
    "collapsed": false
   },
   "outputs": [
    {
     "name": "stdout",
     "output_type": "stream",
     "text": [
      "fit transformers...\n",
      "fit: ('review', [TfidfTransformer])\n",
      "english\n",
      "6.498528480529785\n",
      "fit transformers...OK\n",
      "num of new features: 14\n"
     ]
    },
    {
     "data": {
      "text/html": [
       "<div>\n",
       "<table border=\"1\" class=\"dataframe\">\n",
       "  <thead>\n",
       "    <tr style=\"text-align: right;\">\n",
       "      <th></th>\n",
       "      <th>sentiment</th>\n",
       "      <th>review_0</th>\n",
       "      <th>review_1</th>\n",
       "      <th>review_2</th>\n",
       "      <th>review_3</th>\n",
       "      <th>review_4</th>\n",
       "      <th>review_5</th>\n",
       "      <th>review_6</th>\n",
       "      <th>review_7</th>\n",
       "      <th>review_8</th>\n",
       "      <th>review_9</th>\n",
       "      <th>review_10</th>\n",
       "      <th>review_11</th>\n",
       "      <th>id</th>\n",
       "    </tr>\n",
       "  </thead>\n",
       "  <tbody>\n",
       "    <tr>\n",
       "      <th>0</th>\n",
       "      <td>1</td>\n",
       "      <td>0.048411</td>\n",
       "      <td>0.102839</td>\n",
       "      <td>0.068928</td>\n",
       "      <td>0.013391</td>\n",
       "      <td>0.014309</td>\n",
       "      <td>0.106425</td>\n",
       "      <td>0.000000</td>\n",
       "      <td>0.074297</td>\n",
       "      <td>0.022428</td>\n",
       "      <td>0.000737</td>\n",
       "      <td>0.018656</td>\n",
       "      <td>0.010254</td>\n",
       "      <td>5814_8</td>\n",
       "    </tr>\n",
       "    <tr>\n",
       "      <th>1</th>\n",
       "      <td>1</td>\n",
       "      <td>0.042976</td>\n",
       "      <td>0.000000</td>\n",
       "      <td>0.045970</td>\n",
       "      <td>0.002976</td>\n",
       "      <td>0.014095</td>\n",
       "      <td>0.000000</td>\n",
       "      <td>0.000000</td>\n",
       "      <td>0.000000</td>\n",
       "      <td>0.103159</td>\n",
       "      <td>0.000000</td>\n",
       "      <td>0.000000</td>\n",
       "      <td>0.000048</td>\n",
       "      <td>2381_9</td>\n",
       "    </tr>\n",
       "    <tr>\n",
       "      <th>2</th>\n",
       "      <td>0</td>\n",
       "      <td>0.032445</td>\n",
       "      <td>0.024257</td>\n",
       "      <td>0.006335</td>\n",
       "      <td>0.037319</td>\n",
       "      <td>0.001521</td>\n",
       "      <td>0.028201</td>\n",
       "      <td>0.000000</td>\n",
       "      <td>0.000000</td>\n",
       "      <td>0.021688</td>\n",
       "      <td>0.048993</td>\n",
       "      <td>0.071968</td>\n",
       "      <td>0.001483</td>\n",
       "      <td>7759_3</td>\n",
       "    </tr>\n",
       "    <tr>\n",
       "      <th>3</th>\n",
       "      <td>0</td>\n",
       "      <td>0.063283</td>\n",
       "      <td>0.056728</td>\n",
       "      <td>0.000000</td>\n",
       "      <td>0.008101</td>\n",
       "      <td>0.000000</td>\n",
       "      <td>0.000000</td>\n",
       "      <td>0.033654</td>\n",
       "      <td>0.046720</td>\n",
       "      <td>0.072371</td>\n",
       "      <td>0.000000</td>\n",
       "      <td>0.000000</td>\n",
       "      <td>0.000000</td>\n",
       "      <td>3630_4</td>\n",
       "    </tr>\n",
       "    <tr>\n",
       "      <th>4</th>\n",
       "      <td>1</td>\n",
       "      <td>0.017736</td>\n",
       "      <td>0.001020</td>\n",
       "      <td>0.003813</td>\n",
       "      <td>0.071317</td>\n",
       "      <td>0.008598</td>\n",
       "      <td>0.035884</td>\n",
       "      <td>0.037314</td>\n",
       "      <td>0.008197</td>\n",
       "      <td>0.024299</td>\n",
       "      <td>0.011763</td>\n",
       "      <td>0.020952</td>\n",
       "      <td>0.003525</td>\n",
       "      <td>9495_8</td>\n",
       "    </tr>\n",
       "  </tbody>\n",
       "</table>\n",
       "</div>"
      ],
      "text/plain": [
       "   sentiment  review_0  review_1  review_2  review_3  review_4  review_5  \\\n",
       "0          1  0.048411  0.102839  0.068928  0.013391  0.014309  0.106425   \n",
       "1          1  0.042976  0.000000  0.045970  0.002976  0.014095  0.000000   \n",
       "2          0  0.032445  0.024257  0.006335  0.037319  0.001521  0.028201   \n",
       "3          0  0.063283  0.056728  0.000000  0.008101  0.000000  0.000000   \n",
       "4          1  0.017736  0.001020  0.003813  0.071317  0.008598  0.035884   \n",
       "\n",
       "   review_6  review_7  review_8  review_9  review_10  review_11      id  \n",
       "0  0.000000  0.074297  0.022428  0.000737   0.018656   0.010254  5814_8  \n",
       "1  0.000000  0.000000  0.103159  0.000000   0.000000   0.000048  2381_9  \n",
       "2  0.000000  0.000000  0.021688  0.048993   0.071968   0.001483  7759_3  \n",
       "3  0.033654  0.046720  0.072371  0.000000   0.000000   0.000000  3630_4  \n",
       "4  0.037314  0.008197  0.024299  0.011763   0.020952   0.003525  9495_8  "
      ]
     },
     "execution_count": 5,
     "metadata": {},
     "output_type": "execute_result"
    }
   ],
   "source": [
    "df = data.transform(train, verbose=True)\n",
    "df.head()"
   ]
  },
  {
   "cell_type": "code",
   "execution_count": null,
   "metadata": {
    "collapsed": true
   },
   "outputs": [],
   "source": []
  }
 ],
 "metadata": {
  "anaconda-cloud": {},
  "kernelspec": {
   "display_name": "Python 3",
   "language": "python",
   "name": "python3"
  },
  "language_info": {
   "codemirror_mode": {
    "name": "ipython",
    "version": 3
   },
   "file_extension": ".py",
   "mimetype": "text/x-python",
   "name": "python",
   "nbconvert_exporter": "python",
   "pygments_lexer": "ipython3",
   "version": "3.5.2"
  }
 },
 "nbformat": 4,
 "nbformat_minor": 1
}
