{
 "cells": [
  {
   "cell_type": "code",
   "execution_count": 1,
   "metadata": {
    "collapsed": false
   },
   "outputs": [
    {
     "name": "stderr",
     "output_type": "stream",
     "text": [
      "/usr/local/lib/python3.5/dist-packages/gensim/utils.py:1015: UserWarning: Pattern library is not installed, lemmatization won't be available.\n",
      "  warnings.warn(\"Pattern library is not installed, lemmatization won't be available.\")\n"
     ]
    }
   ],
   "source": [
    "import sys\n",
    "sys.path.append('../')\n",
    "import datapot as dp"
   ]
  },
  {
   "cell_type": "code",
   "execution_count": 2,
   "metadata": {
    "collapsed": false
   },
   "outputs": [
    {
     "data": {
      "text/plain": [
       "DataPot class instance\n",
       " - number of features without transformation: 0\n",
       " - number of new features: Unknown\n",
       "features to transform: "
      ]
     },
     "execution_count": 2,
     "metadata": {},
     "output_type": "execute_result"
    }
   ],
   "source": [
    "data = dp.DataPot()\n",
    "data"
   ]
  },
  {
   "cell_type": "code",
   "execution_count": 3,
   "metadata": {
    "collapsed": false
   },
   "outputs": [],
   "source": [
    "# f = open('../data/matches_test.jsonlines', 'r')\n",
    "import bz2\n",
    "f = bz2.BZ2File('../data/matches_test.jsonlines.bz2') "
   ]
  },
  {
   "cell_type": "code",
   "execution_count": 4,
   "metadata": {
    "collapsed": false
   },
   "outputs": [
    {
     "data": {
      "text/plain": [
       "DataPot class instance\n",
       " - number of features without transformation: 806\n",
       " - number of new features: 315\n",
       "features to transform: \n",
       "\t(u'players.0.gold_t', [TestComplexTransformer(average_len_of_array=None)])\n",
       "\t(u'players.9.gold_t', [TestComplexTransformer(average_len_of_array=None)])\n",
       "\t(u'picks_bans.13.is_pick', [TestBoolToIntTransformer])\n",
       "\t(u'picks_bans.5.is_pick', [TestBoolToIntTransformer])\n",
       "\t(u'players.5.lh_t', [TestComplexTransformer(average_len_of_array=None)])\n",
       "\t(u'players.0.xp_t', [TestComplexTransformer(average_len_of_array=None)])\n",
       "\t(u'players.3.kills_log.0.unit', [TfidfTransformer])\n",
       "\t(u'players.8.lh_t', [TestComplexTransformer(average_len_of_array=None)])\n",
       "\t(u'picks_bans.14.is_pick', [TestBoolToIntTransformer])\n",
       "\t(u'picks_bans.9.is_pick', [TestBoolToIntTransformer])\n",
       "\t(u'players.7.kills_log.0.unit', [TfidfTransformer])\n",
       "\t(u'players.6.kills_log.1.unit', [TfidfTransformer])\n",
       "\t(u'players.6.lh_t', [TestComplexTransformer(average_len_of_array=None)])\n",
       "\t(u'picks_bans.19.is_pick', [TestBoolToIntTransformer])\n",
       "\t(u'players.7.xp_t', [TestComplexTransformer(average_len_of_array=None)])\n",
       "\t(u'players.3.lh_t', [TestComplexTransformer(average_len_of_array=None)])\n",
       "\t(u'players.2.gold_t', [TestComplexTransformer(average_len_of_array=None)])\n",
       "\t(u'players.2.kills_log.2.unit', [TfidfTransformer])\n",
       "\t(u'players.2.xp_t', [TestComplexTransformer(average_len_of_array=None)])\n",
       "\t(u'players.1.kills_log.1.unit', [TfidfTransformer])\n",
       "\t(u'picks_bans.1.is_pick', [TestBoolToIntTransformer])\n",
       "\t(u'players.4.kills_log.1.unit', [TfidfTransformer])\n",
       "\t(u'players.8.xp_t', [TestComplexTransformer(average_len_of_array=None)])\n",
       "\t(u'players.4.kills_log.0.unit', [TfidfTransformer])\n",
       "\t(u'players.8.kills_log.1.unit', [TfidfTransformer])\n",
       "\t(u'players.3.xp_t', [TestComplexTransformer(average_len_of_array=None)])\n",
       "\t(u'times', [TestComplexTransformer(average_len_of_array=None)])\n",
       "\t(u'players.5.kills_log.0.unit', [TfidfTransformer])\n",
       "\t(u'picks_bans.10.is_pick', [TestBoolToIntTransformer])\n",
       "\t(u'players.9.kills_log.1.unit', [TfidfTransformer])\n",
       "\t(u'players.3.gold_t', [TestComplexTransformer(average_len_of_array=None)])\n",
       "\t(u'players.6.xp_t', [TestComplexTransformer(average_len_of_array=None)])\n",
       "\t(u'players.4.xp_t', [TestComplexTransformer(average_len_of_array=None)])\n",
       "\t(u'players.3.kills_log.1.unit', [TfidfTransformer])\n",
       "\t(u'players.5.kills_log.1.unit', [TfidfTransformer])\n",
       "\t(u'players.6.gold_t', [TestComplexTransformer(average_len_of_array=None)])\n",
       "\t(u'players.7.lh_t', [TestComplexTransformer(average_len_of_array=None)])\n",
       "\t(u'picks_bans.8.is_pick', [TestBoolToIntTransformer])\n",
       "\t(u'picks_bans.2.is_pick', [TestBoolToIntTransformer])\n",
       "\t(u'picks_bans.7.is_pick', [TestBoolToIntTransformer])\n",
       "\t(u'players.9.lh_t', [TestComplexTransformer(average_len_of_array=None)])\n",
       "\t(u'players.1.gold_t', [TestComplexTransformer(average_len_of_array=None)])\n",
       "\t(u'picks_bans.18.is_pick', [TestBoolToIntTransformer])\n",
       "\t(u'players.2.kills_log.0.unit', [TfidfTransformer])\n",
       "\t(u'players.1.lh_t', [TestComplexTransformer(average_len_of_array=None)])\n",
       "\t(u'players.8.kills_log.0.unit', [TfidfTransformer])\n",
       "\t(u'players.7.kills_log.1.unit', [TfidfTransformer])\n",
       "\t(u'players.7.gold_t', [TestComplexTransformer(average_len_of_array=None)])\n",
       "\t(u'players.4.gold_t', [TestComplexTransformer(average_len_of_array=None)])\n",
       "\t(u'players.9.kills_log.0.unit', [TfidfTransformer])\n",
       "\t(u'picks_bans.16.is_pick', [TestBoolToIntTransformer])\n",
       "\t(u'picks_bans.6.is_pick', [TestBoolToIntTransformer])\n",
       "\t(u'players.4.lh_t', [TestComplexTransformer(average_len_of_array=None)])\n",
       "\t(u'players.8.gold_t', [TestComplexTransformer(average_len_of_array=None)])\n",
       "\t(u'players.2.lh_t', [TestComplexTransformer(average_len_of_array=None)])\n",
       "\t(u'players.6.kills_log.0.unit', [TfidfTransformer])\n",
       "\t(u'players.2.kills_log.1.unit', [TfidfTransformer])\n",
       "\t(u'picks_bans.12.is_pick', [TestBoolToIntTransformer])\n",
       "\t(u'picks_bans.15.is_pick', [TestBoolToIntTransformer])\n",
       "\t(u'players.5.gold_t', [TestComplexTransformer(average_len_of_array=None)])\n",
       "\t(u'players.1.xp_t', [TestComplexTransformer(average_len_of_array=None)])\n",
       "\t(u'picks_bans.3.is_pick', [TestBoolToIntTransformer])\n",
       "\t(u'players.0.kills_log.1.unit', [TfidfTransformer])\n",
       "\t(u'players.9.xp_t', [TestComplexTransformer(average_len_of_array=None)])\n",
       "\t(u'picks_bans.0.is_pick', [TestBoolToIntTransformer])\n",
       "\t(u'picks_bans.11.is_pick', [TestBoolToIntTransformer])\n",
       "\t(u'players.8.kills_log.2.unit', [TfidfTransformer])\n",
       "\t(u'picks_bans.4.is_pick', [TestBoolToIntTransformer])\n",
       "\t(u'players.1.kills_log.0.unit', [TfidfTransformer])\n",
       "\t(u'players.0.kills_log.0.unit', [TfidfTransformer])\n",
       "\t(u'players.0.lh_t', [TestComplexTransformer(average_len_of_array=None)])\n",
       "\t(u'picks_bans.17.is_pick', [TestBoolToIntTransformer])\n",
       "\t(u'players.5.xp_t', [TestComplexTransformer(average_len_of_array=None)])"
      ]
     },
     "execution_count": 4,
     "metadata": {},
     "output_type": "execute_result"
    }
   ],
   "source": [
    "data.fit(f, limit=100)\n",
    "data"
   ]
  },
  {
   "cell_type": "code",
   "execution_count": 5,
   "metadata": {
    "collapsed": false
   },
   "outputs": [
    {
     "data": {
      "text/plain": [
       "DataPot class instance\n",
       " - number of features without transformation: 806\n",
       " - number of new features: 315\n",
       "features to transform: \n",
       "\t(u'players.0.gold_t', [TestComplexTransformer(average_len_of_array=None)])\n",
       "\t(u'players.9.gold_t', [TestComplexTransformer(average_len_of_array=None)])\n",
       "\t(u'picks_bans.13.is_pick', [TestBoolToIntTransformer])\n",
       "\t(u'picks_bans.5.is_pick', [TestBoolToIntTransformer])\n",
       "\t(u'players.5.lh_t', [TestComplexTransformer(average_len_of_array=None)])\n",
       "\t(u'players.0.xp_t', [TestComplexTransformer(average_len_of_array=None)])\n",
       "\t(u'players.3.kills_log.0.unit', [TfidfTransformer])\n",
       "\t(u'players.8.lh_t', [TestComplexTransformer(average_len_of_array=None)])\n",
       "\t(u'picks_bans.14.is_pick', [TestBoolToIntTransformer])\n",
       "\t(u'picks_bans.9.is_pick', [TestBoolToIntTransformer])\n",
       "\t(u'players.7.kills_log.0.unit', [TfidfTransformer])\n",
       "\t(u'players.6.kills_log.1.unit', [TfidfTransformer])\n",
       "\t(u'players.6.lh_t', [TestComplexTransformer(average_len_of_array=None)])\n",
       "\t(u'picks_bans.19.is_pick', [TestBoolToIntTransformer])\n",
       "\t(u'players.7.xp_t', [TestComplexTransformer(average_len_of_array=None)])\n",
       "\t(u'players.3.lh_t', [TestComplexTransformer(average_len_of_array=None)])\n",
       "\t(u'players.2.gold_t', [TestComplexTransformer(average_len_of_array=None)])\n",
       "\t(u'players.2.kills_log.2.unit', [TfidfTransformer])\n",
       "\t(u'players.2.xp_t', [TestComplexTransformer(average_len_of_array=None)])\n",
       "\t(u'players.1.kills_log.1.unit', [TfidfTransformer])\n",
       "\t(u'picks_bans.1.is_pick', [TestBoolToIntTransformer])\n",
       "\t(u'players.4.kills_log.1.unit', [TfidfTransformer])\n",
       "\t(u'players.8.xp_t', [TestComplexTransformer(average_len_of_array=None)])\n",
       "\t(u'players.4.kills_log.0.unit', [TfidfTransformer])\n",
       "\t(u'players.8.kills_log.1.unit', [TfidfTransformer])\n",
       "\t(u'players.3.xp_t', [TestComplexTransformer(average_len_of_array=None)])\n",
       "\t(u'times', [TestComplexTransformer(average_len_of_array=None)])\n",
       "\t(u'players.5.kills_log.0.unit', [TfidfTransformer])\n",
       "\t(u'picks_bans.10.is_pick', [TestBoolToIntTransformer])\n",
       "\t(u'players.9.kills_log.1.unit', [TfidfTransformer])\n",
       "\t(u'players.3.gold_t', [TestComplexTransformer(average_len_of_array=None)])\n",
       "\t(u'players.6.xp_t', [TestComplexTransformer(average_len_of_array=None)])\n",
       "\t(u'players.4.xp_t', [TestComplexTransformer(average_len_of_array=None)])\n",
       "\t(u'players.3.kills_log.1.unit', [TfidfTransformer])\n",
       "\t(u'players.5.kills_log.1.unit', [TfidfTransformer])\n",
       "\t(u'players.6.gold_t', [TestComplexTransformer(average_len_of_array=None)])\n",
       "\t(u'players.7.lh_t', [TestComplexTransformer(average_len_of_array=None)])\n",
       "\t(u'picks_bans.8.is_pick', [TestBoolToIntTransformer])\n",
       "\t(u'picks_bans.2.is_pick', [TestBoolToIntTransformer])\n",
       "\t(u'picks_bans.7.is_pick', [TestBoolToIntTransformer])\n",
       "\t(u'players.9.lh_t', [TestComplexTransformer(average_len_of_array=None)])\n",
       "\t(u'players.1.gold_t', [TestComplexTransformer(average_len_of_array=None)])\n",
       "\t(u'picks_bans.18.is_pick', [TestBoolToIntTransformer])\n",
       "\t(u'players.2.kills_log.0.unit', [TfidfTransformer])\n",
       "\t(u'players.1.lh_t', [TestComplexTransformer(average_len_of_array=None)])\n",
       "\t(u'players.8.kills_log.0.unit', [TfidfTransformer])\n",
       "\t(u'players.7.kills_log.1.unit', [TfidfTransformer])\n",
       "\t(u'players.7.gold_t', [TestComplexTransformer(average_len_of_array=None)])\n",
       "\t(u'players.4.gold_t', [TestComplexTransformer(average_len_of_array=None)])\n",
       "\t(u'players.9.kills_log.0.unit', [TfidfTransformer])\n",
       "\t(u'picks_bans.16.is_pick', [TestBoolToIntTransformer])\n",
       "\t(u'picks_bans.6.is_pick', [TestBoolToIntTransformer])\n",
       "\t(u'players.4.lh_t', [TestComplexTransformer(average_len_of_array=None)])\n",
       "\t(u'players.8.gold_t', [TestComplexTransformer(average_len_of_array=None)])\n",
       "\t(u'players.2.lh_t', [TestComplexTransformer(average_len_of_array=None)])\n",
       "\t(u'players.6.kills_log.0.unit', [TfidfTransformer])\n",
       "\t(u'players.2.kills_log.1.unit', [TfidfTransformer])\n",
       "\t(u'picks_bans.12.is_pick', [TestBoolToIntTransformer, TimeSeriesTransformer...])\n",
       "\t(u'picks_bans.15.is_pick', [TestBoolToIntTransformer])\n",
       "\t(u'players.5.gold_t', [TestComplexTransformer(average_len_of_array=None)])\n",
       "\t(u'players.1.xp_t', [TestComplexTransformer(average_len_of_array=None)])\n",
       "\t(u'picks_bans.3.is_pick', [TestBoolToIntTransformer])\n",
       "\t(u'players.0.kills_log.1.unit', [TfidfTransformer])\n",
       "\t(u'players.9.xp_t', [TestComplexTransformer(average_len_of_array=None)])\n",
       "\t(u'picks_bans.0.is_pick', [TestBoolToIntTransformer])\n",
       "\t(u'picks_bans.11.is_pick', [TestBoolToIntTransformer])\n",
       "\t(u'players.8.kills_log.2.unit', [TfidfTransformer])\n",
       "\t(u'picks_bans.4.is_pick', [TestBoolToIntTransformer])\n",
       "\t(u'players.1.kills_log.0.unit', [TfidfTransformer])\n",
       "\t(u'players.0.kills_log.0.unit', [TfidfTransformer])\n",
       "\t(u'players.0.lh_t', [TestComplexTransformer(average_len_of_array=None)])\n",
       "\t(u'picks_bans.17.is_pick', [TestBoolToIntTransformer])\n",
       "\t(u'players.5.xp_t', [TestComplexTransformer(average_len_of_array=None)])"
      ]
     },
     "execution_count": 5,
     "metadata": {},
     "output_type": "execute_result"
    }
   ],
   "source": [
    "from datapot.transformer.timeseries_transformer import TimeSeriesTransformer\n",
    "\n",
    "# now we can manualy add new transformer to the specific field\n",
    "data.add_transformer(\"picks_bans.12.is_pick\", TimeSeriesTransformer())\n",
    "data"
   ]
  },
  {
   "cell_type": "code",
   "execution_count": 6,
   "metadata": {
    "collapsed": false
   },
   "outputs": [
    {
     "data": {
      "text/plain": [
       "DataPot class instance\n",
       " - number of features without transformation: 806\n",
       " - number of new features: 315\n",
       "features to transform: \n",
       "\t('players.8.xp_t', [TestComplexTransformer(average_len_of_array=None)])\n",
       "\t('players.7.kills_log.1.unit', [TfidfTransformer])\n",
       "\t('players.9.lh_t', [TestComplexTransformer(average_len_of_array=None)])\n",
       "\t('players.2.xp_t', [TestComplexTransformer(average_len_of_array=None)])\n",
       "\t('players.7.xp_t', [TestComplexTransformer(average_len_of_array=None)])\n",
       "\t('picks_bans.5.is_pick', [TestBoolToIntTransformer])\n",
       "\t('players.8.kills_log.1.unit', [TfidfTransformer])\n",
       "\t('players.9.xp_t', [TestComplexTransformer(average_len_of_array=None)])\n",
       "\t('players.1.gold_t', [TestComplexTransformer(average_len_of_array=None)])\n",
       "\t('players.1.kills_log.1.unit', [TfidfTransformer])\n",
       "\t('players.6.kills_log.0.unit', [TfidfTransformer])\n",
       "\t('players.6.gold_t', [TestComplexTransformer(average_len_of_array=None)])\n",
       "\t('players.0.gold_t', [TestComplexTransformer(average_len_of_array=None)])\n",
       "\t('picks_bans.1.is_pick', [TestBoolToIntTransformer])\n",
       "\t('players.9.kills_log.0.unit', [TfidfTransformer])\n",
       "\t('players.0.kills_log.1.unit', [TfidfTransformer])\n",
       "\t('players.8.kills_log.2.unit', [TfidfTransformer])\n",
       "\t('players.7.kills_log.0.unit', [TfidfTransformer])\n",
       "\t('picks_bans.18.is_pick', [TestBoolToIntTransformer])\n",
       "\t('players.9.gold_t', [TestComplexTransformer(average_len_of_array=None)])\n",
       "\t('players.1.xp_t', [TestComplexTransformer(average_len_of_array=None)])\n",
       "\t('picks_bans.16.is_pick', [TestBoolToIntTransformer])\n",
       "\t('picks_bans.12.is_pick', [TestBoolToIntTransformer])\n",
       "\t('players.3.kills_log.0.unit', [TfidfTransformer])\n",
       "\t('players.5.gold_t', [TestComplexTransformer(average_len_of_array=None)])\n",
       "\t('players.2.kills_log.1.unit', [TfidfTransformer])\n",
       "\t('players.4.kills_log.0.unit', [TfidfTransformer])\n",
       "\t('picks_bans.2.is_pick', [TestBoolToIntTransformer])\n",
       "\t('picks_bans.13.is_pick', [TestBoolToIntTransformer])\n",
       "\t('players.4.kills_log.1.unit', [TfidfTransformer])\n",
       "\t('players.7.gold_t', [TestComplexTransformer(average_len_of_array=None)])\n",
       "\t('players.7.lh_t', [TestComplexTransformer(average_len_of_array=None)])\n",
       "\t('picks_bans.0.is_pick', [TestBoolToIntTransformer])\n",
       "\t('picks_bans.4.is_pick', [TestBoolToIntTransformer])\n",
       "\t('picks_bans.19.is_pick', [TestBoolToIntTransformer])\n",
       "\t('players.6.xp_t', [TestComplexTransformer(average_len_of_array=None)])\n",
       "\t('picks_bans.17.is_pick', [TestBoolToIntTransformer])\n",
       "\t('players.8.gold_t', [TestComplexTransformer(average_len_of_array=None)])\n",
       "\t('players.8.kills_log.0.unit', [TfidfTransformer])\n",
       "\t('players.4.lh_t', [TestComplexTransformer(average_len_of_array=None)])\n",
       "\t('players.3.kills_log.1.unit', [TfidfTransformer])\n",
       "\t('players.9.kills_log.1.unit', [TfidfTransformer])\n",
       "\t('players.5.lh_t', [TestComplexTransformer(average_len_of_array=None)])\n",
       "\t('players.1.lh_t', [TestComplexTransformer(average_len_of_array=None)])\n",
       "\t('players.2.lh_t', [TestComplexTransformer(average_len_of_array=None)])\n",
       "\t('players.0.lh_t', [TestComplexTransformer(average_len_of_array=None)])\n",
       "\t('players.2.kills_log.2.unit', [TfidfTransformer])\n",
       "\t('picks_bans.3.is_pick', [TestBoolToIntTransformer])\n",
       "\t('picks_bans.9.is_pick', [TestBoolToIntTransformer])\n",
       "\t('picks_bans.10.is_pick', [TestBoolToIntTransformer])\n",
       "\t('players.6.kills_log.1.unit', [TfidfTransformer])\n",
       "\t('players.3.xp_t', [TestComplexTransformer(average_len_of_array=None)])\n",
       "\t('picks_bans.15.is_pick', [TestBoolToIntTransformer])\n",
       "\t('players.3.lh_t', [TestComplexTransformer(average_len_of_array=None)])\n",
       "\t('players.4.gold_t', [TestComplexTransformer(average_len_of_array=None)])\n",
       "\t('players.5.kills_log.0.unit', [TfidfTransformer])\n",
       "\t('picks_bans.14.is_pick', [TestBoolToIntTransformer])\n",
       "\t('players.8.lh_t', [TestComplexTransformer(average_len_of_array=None)])\n",
       "\t('players.6.lh_t', [TestComplexTransformer(average_len_of_array=None)])\n",
       "\t('picks_bans.8.is_pick', [TestBoolToIntTransformer])\n",
       "\t('picks_bans.11.is_pick', [TestBoolToIntTransformer])\n",
       "\t('players.2.kills_log.0.unit', [TfidfTransformer])\n",
       "\t('players.5.xp_t', [TestComplexTransformer(average_len_of_array=None)])\n",
       "\t('players.2.gold_t', [TestComplexTransformer(average_len_of_array=None)])\n",
       "\t('players.1.kills_log.0.unit', [TfidfTransformer])\n",
       "\t('players.0.kills_log.0.unit', [TfidfTransformer])\n",
       "\t('players.5.kills_log.1.unit', [TfidfTransformer])\n",
       "\t('players.3.gold_t', [TestComplexTransformer(average_len_of_array=None)])\n",
       "\t('players.0.xp_t', [TestComplexTransformer(average_len_of_array=None)])\n",
       "\t('picks_bans.7.is_pick', [TestBoolToIntTransformer])\n",
       "\t('times', [TestComplexTransformer(average_len_of_array=None)])\n",
       "\t('players.4.xp_t', [TestComplexTransformer(average_len_of_array=None)])\n",
       "\t('picks_bans.6.is_pick', [TestBoolToIntTransformer])"
      ]
     },
     "execution_count": 6,
     "metadata": {},
     "output_type": "execute_result"
    }
   ],
   "source": [
    "# and also remove it\n",
    "data.remove_transformer(\"picks_bans.12.is_pick\", 1)\n",
    "data"
   ]
  },
  {
   "cell_type": "code",
   "execution_count": 6,
   "metadata": {
    "collapsed": false
   },
   "outputs": [
    {
     "name": "stdout",
     "output_type": "stream",
     "text": [
      "fit transformers...\n",
      "fit: (u'players.0.gold_t', [TestComplexTransformer(average_len_of_array=None)])\n",
      "fit: (u'players.9.gold_t', [TestComplexTransformer(average_len_of_array=None)])\n",
      "fit: (u'picks_bans.13.is_pick', [TestBoolToIntTransformer])\n",
      "fit: (u'picks_bans.5.is_pick', [TestBoolToIntTransformer])\n",
      "fit: (u'players.5.lh_t', [TestComplexTransformer(average_len_of_array=None)])\n",
      "fit: (u'players.0.xp_t', [TestComplexTransformer(average_len_of_array=None)])\n",
      "fit: (u'players.3.kills_log.0.unit', [TfidfTransformer])\n"
     ]
    },
    {
     "ename": "LookupError",
     "evalue": "\n**********************************************************************\n  Resource u'corpora/stopwords' not found.  Please use the NLTK\n  Downloader to obtain the resource:  >>> nltk.download()\n  Searched in:\n    - '/Users/michal-roz/nltk_data'\n    - '/usr/share/nltk_data'\n    - '/usr/local/share/nltk_data'\n    - '/usr/lib/nltk_data'\n    - '/usr/local/lib/nltk_data'\n**********************************************************************",
     "output_type": "error",
     "traceback": [
      "\u001b[0;31m---------------------------------------------------------------------------\u001b[0m",
      "\u001b[0;31mLookupError\u001b[0m                               Traceback (most recent call last)",
      "\u001b[0;32m<ipython-input-6-91ce755225a5>\u001b[0m in \u001b[0;36m<module>\u001b[0;34m()\u001b[0m\n\u001b[0;32m----> 1\u001b[0;31m \u001b[0mdf\u001b[0m \u001b[0;34m=\u001b[0m \u001b[0mdata\u001b[0m\u001b[0;34m.\u001b[0m\u001b[0mtransform\u001b[0m\u001b[0;34m(\u001b[0m\u001b[0mf\u001b[0m\u001b[0;34m,\u001b[0m \u001b[0mverbose\u001b[0m\u001b[0;34m=\u001b[0m\u001b[0mTrue\u001b[0m\u001b[0;34m)\u001b[0m\u001b[0;34m\u001b[0m\u001b[0m\n\u001b[0m\u001b[1;32m      2\u001b[0m \u001b[0mdf\u001b[0m\u001b[0;34m.\u001b[0m\u001b[0mhead\u001b[0m\u001b[0;34m(\u001b[0m\u001b[0;34m)\u001b[0m\u001b[0;34m\u001b[0m\u001b[0m\n",
      "\u001b[0;32m/Users/michal-roz/Documents/Data_pot/datapot/datapot/__init__.py\u001b[0m in \u001b[0;36mtransform\u001b[0;34m(self, data, verbose)\u001b[0m\n\u001b[1;32m    122\u001b[0m             \u001b[0;32mprint\u001b[0m\u001b[0;34m(\u001b[0m\u001b[0;34m'fit transformers...'\u001b[0m\u001b[0;34m)\u001b[0m\u001b[0;34m\u001b[0m\u001b[0m\n\u001b[1;32m    123\u001b[0m         \u001b[0;31m# fit transformers\u001b[0m\u001b[0;34m\u001b[0m\u001b[0;34m\u001b[0m\u001b[0m\n\u001b[0;32m--> 124\u001b[0;31m         \u001b[0mself\u001b[0m\u001b[0;34m.\u001b[0m\u001b[0m__fit_transformers\u001b[0m\u001b[0;34m(\u001b[0m\u001b[0mdata\u001b[0m\u001b[0;34m,\u001b[0m \u001b[0mverbose\u001b[0m\u001b[0;34m)\u001b[0m\u001b[0;34m\u001b[0m\u001b[0m\n\u001b[0m\u001b[1;32m    125\u001b[0m         \u001b[0;32mif\u001b[0m \u001b[0mverbose\u001b[0m\u001b[0;34m:\u001b[0m\u001b[0;34m\u001b[0m\u001b[0m\n\u001b[1;32m    126\u001b[0m             \u001b[0;32mprint\u001b[0m\u001b[0;34m(\u001b[0m\u001b[0;34m'fit transformers...OK'\u001b[0m\u001b[0;34m)\u001b[0m\u001b[0;34m\u001b[0m\u001b[0m\n",
      "\u001b[0;32m/Users/michal-roz/Documents/Data_pot/datapot/datapot/__init__.py\u001b[0m in \u001b[0;36m__fit_transformers\u001b[0;34m(self, data, verbose)\u001b[0m\n\u001b[1;32m    197\u001b[0m                 \u001b[0;32mif\u001b[0m \u001b[0mvalues\u001b[0m \u001b[0;32mis\u001b[0m \u001b[0mNone\u001b[0m\u001b[0;34m:\u001b[0m\u001b[0;34m\u001b[0m\u001b[0m\n\u001b[1;32m    198\u001b[0m                     \u001b[0mvalues\u001b[0m \u001b[0;34m=\u001b[0m \u001b[0mself\u001b[0m\u001b[0;34m.\u001b[0m\u001b[0m__extract_all_values\u001b[0m\u001b[0;34m(\u001b[0m\u001b[0mdata\u001b[0m\u001b[0;34m,\u001b[0m \u001b[0mx\u001b[0m\u001b[0;34m[\u001b[0m\u001b[0;36m0\u001b[0m\u001b[0;34m]\u001b[0m\u001b[0;34m.\u001b[0m\u001b[0msplit\u001b[0m\u001b[0;34m(\u001b[0m\u001b[0;34m'.'\u001b[0m\u001b[0;34m)\u001b[0m\u001b[0;34m)\u001b[0m\u001b[0;34m\u001b[0m\u001b[0m\n\u001b[0;32m--> 199\u001b[0;31m                 \u001b[0mx\u001b[0m\u001b[0;34m[\u001b[0m\u001b[0;36m1\u001b[0m\u001b[0;34m]\u001b[0m\u001b[0;34m[\u001b[0m\u001b[0mi\u001b[0m\u001b[0;34m]\u001b[0m\u001b[0;34m.\u001b[0m\u001b[0mfit\u001b[0m\u001b[0;34m(\u001b[0m\u001b[0mvalues\u001b[0m\u001b[0;34m)\u001b[0m\u001b[0;34m\u001b[0m\u001b[0m\n\u001b[0m\u001b[1;32m    200\u001b[0m \u001b[0;34m\u001b[0m\u001b[0m\n\u001b[1;32m    201\u001b[0m     \u001b[0;32mdef\u001b[0m \u001b[0m__generate_feature\u001b[0m\u001b[0;34m(\u001b[0m\u001b[0mself\u001b[0m\u001b[0;34m,\u001b[0m \u001b[0mobj\u001b[0m\u001b[0;34m,\u001b[0m \u001b[0mfield\u001b[0m\u001b[0;34m,\u001b[0m \u001b[0mtransformers\u001b[0m\u001b[0;34m)\u001b[0m\u001b[0;34m:\u001b[0m\u001b[0;34m\u001b[0m\u001b[0m\n",
      "\u001b[0;32m/Users/michal-roz/Documents/Data_pot/datapot/datapot/transformer/text/text_transformer.pyc\u001b[0m in \u001b[0;36mfit\u001b[0;34m(self, text_feature)\u001b[0m\n\u001b[1;32m     96\u001b[0m \u001b[0;34m\u001b[0m\u001b[0m\n\u001b[1;32m     97\u001b[0m     \u001b[0;32mdef\u001b[0m \u001b[0mfit\u001b[0m\u001b[0;34m(\u001b[0m\u001b[0mself\u001b[0m\u001b[0;34m,\u001b[0m \u001b[0mtext_feature\u001b[0m\u001b[0;34m)\u001b[0m\u001b[0;34m:\u001b[0m\u001b[0;34m\u001b[0m\u001b[0m\n\u001b[0;32m---> 98\u001b[0;31m         \u001b[0mtext_feature\u001b[0m \u001b[0;34m=\u001b[0m \u001b[0mself\u001b[0m\u001b[0;34m.\u001b[0m\u001b[0m_clean_text_feature\u001b[0m\u001b[0;34m(\u001b[0m\u001b[0mtext_feature\u001b[0m\u001b[0;34m)\u001b[0m\u001b[0;34m\u001b[0m\u001b[0m\n\u001b[0m\u001b[1;32m     99\u001b[0m         \u001b[0mself\u001b[0m\u001b[0;34m.\u001b[0m\u001b[0m_detect_parameters\u001b[0m\u001b[0;34m(\u001b[0m\u001b[0mtext_feature\u001b[0m\u001b[0;34m)\u001b[0m\u001b[0;34m\u001b[0m\u001b[0m\n\u001b[1;32m    100\u001b[0m         \u001b[0mtext_feature\u001b[0m \u001b[0;34m=\u001b[0m \u001b[0;34m[\u001b[0m\u001b[0mself\u001b[0m\u001b[0;34m.\u001b[0m\u001b[0m_stemming\u001b[0m\u001b[0;34m(\u001b[0m\u001b[0mtext\u001b[0m\u001b[0;34m)\u001b[0m \u001b[0;32mfor\u001b[0m \u001b[0mtext\u001b[0m \u001b[0;32min\u001b[0m \u001b[0mtext_feature\u001b[0m\u001b[0;34m]\u001b[0m\u001b[0;34m\u001b[0m\u001b[0m\n",
      "\u001b[0;32m/Users/michal-roz/Documents/Data_pot/datapot/datapot/transformer/text/text_transformer.pyc\u001b[0m in \u001b[0;36m_clean_text_feature\u001b[0;34m(self, text_feature)\u001b[0m\n\u001b[1;32m     64\u001b[0m \u001b[0;34m\u001b[0m\u001b[0m\n\u001b[1;32m     65\u001b[0m     \u001b[0;32mdef\u001b[0m \u001b[0m_clean_text_feature\u001b[0m\u001b[0;34m(\u001b[0m\u001b[0mself\u001b[0m\u001b[0;34m,\u001b[0m \u001b[0mtext_feature\u001b[0m\u001b[0;34m)\u001b[0m\u001b[0;34m:\u001b[0m\u001b[0;34m\u001b[0m\u001b[0m\n\u001b[0;32m---> 66\u001b[0;31m         \u001b[0;32mreturn\u001b[0m \u001b[0;34m[\u001b[0m\u001b[0mself\u001b[0m\u001b[0;34m.\u001b[0m\u001b[0m_clean_text\u001b[0m\u001b[0;34m(\u001b[0m\u001b[0mtext\u001b[0m\u001b[0;34m)\u001b[0m \u001b[0;32mfor\u001b[0m \u001b[0mtext\u001b[0m \u001b[0;32min\u001b[0m \u001b[0mtext_feature\u001b[0m\u001b[0;34m]\u001b[0m\u001b[0;34m\u001b[0m\u001b[0m\n\u001b[0m\u001b[1;32m     67\u001b[0m \u001b[0;34m\u001b[0m\u001b[0m\n\u001b[1;32m     68\u001b[0m \u001b[0;34m\u001b[0m\u001b[0m\n",
      "\u001b[0;32m/Users/michal-roz/Documents/Data_pot/datapot/datapot/transformer/text/text_transformer.pyc\u001b[0m in \u001b[0;36m_clean_text\u001b[0;34m(self, text)\u001b[0m\n\u001b[1;32m     55\u001b[0m             \u001b[0;32mreturn\u001b[0m \u001b[0mNONE_TEXT\u001b[0m\u001b[0;34m\u001b[0m\u001b[0m\n\u001b[1;32m     56\u001b[0m         \u001b[0mtext\u001b[0m \u001b[0;34m=\u001b[0m \u001b[0mre\u001b[0m\u001b[0;34m.\u001b[0m\u001b[0msub\u001b[0m\u001b[0;34m(\u001b[0m\u001b[0;34mr'[^[^\\W\\d_]]'\u001b[0m\u001b[0;34m,\u001b[0m \u001b[0;34m' '\u001b[0m\u001b[0;34m,\u001b[0m \u001b[0mtext\u001b[0m\u001b[0;34m.\u001b[0m\u001b[0mlower\u001b[0m\u001b[0;34m(\u001b[0m\u001b[0;34m)\u001b[0m\u001b[0;34m)\u001b[0m\u001b[0;34m\u001b[0m\u001b[0m\n\u001b[0;32m---> 57\u001b[0;31m         \u001b[0mself\u001b[0m\u001b[0;34m.\u001b[0m\u001b[0mstopwords_set\u001b[0m \u001b[0;34m=\u001b[0m \u001b[0mset\u001b[0m\u001b[0;34m(\u001b[0m\u001b[0mstopwords\u001b[0m\u001b[0;34m.\u001b[0m\u001b[0mwords\u001b[0m\u001b[0;34m(\u001b[0m\u001b[0mself\u001b[0m\u001b[0;34m.\u001b[0m\u001b[0mlanguage\u001b[0m\u001b[0;34m)\u001b[0m\u001b[0;34m)\u001b[0m\u001b[0;34m\u001b[0m\u001b[0m\n\u001b[0m\u001b[1;32m     58\u001b[0m         \u001b[0;32mreturn\u001b[0m \u001b[0mtext\u001b[0m\u001b[0;34m\u001b[0m\u001b[0m\n\u001b[1;32m     59\u001b[0m \u001b[0;34m\u001b[0m\u001b[0m\n",
      "\u001b[0;32m/Users/michal-roz/anaconda2/lib/python2.7/site-packages/nltk/corpus/util.pyc\u001b[0m in \u001b[0;36m__getattr__\u001b[0;34m(self, attr)\u001b[0m\n\u001b[1;32m     97\u001b[0m             \u001b[0;32mraise\u001b[0m \u001b[0mAttributeError\u001b[0m\u001b[0;34m(\u001b[0m\u001b[0;34m\"LazyCorpusLoader object has no attribute '__bases__'\"\u001b[0m\u001b[0;34m)\u001b[0m\u001b[0;34m\u001b[0m\u001b[0m\n\u001b[1;32m     98\u001b[0m \u001b[0;34m\u001b[0m\u001b[0m\n\u001b[0;32m---> 99\u001b[0;31m         \u001b[0mself\u001b[0m\u001b[0;34m.\u001b[0m\u001b[0m__load\u001b[0m\u001b[0;34m(\u001b[0m\u001b[0;34m)\u001b[0m\u001b[0;34m\u001b[0m\u001b[0m\n\u001b[0m\u001b[1;32m    100\u001b[0m         \u001b[0;31m# This looks circular, but its not, since __load() changes our\u001b[0m\u001b[0;34m\u001b[0m\u001b[0;34m\u001b[0m\u001b[0m\n\u001b[1;32m    101\u001b[0m         \u001b[0;31m# __class__ to something new:\u001b[0m\u001b[0;34m\u001b[0m\u001b[0;34m\u001b[0m\u001b[0m\n",
      "\u001b[0;32m/Users/michal-roz/anaconda2/lib/python2.7/site-packages/nltk/corpus/util.pyc\u001b[0m in \u001b[0;36m__load\u001b[0;34m(self)\u001b[0m\n\u001b[1;32m     62\u001b[0m             \u001b[0;32mexcept\u001b[0m \u001b[0mLookupError\u001b[0m \u001b[0;32mas\u001b[0m \u001b[0me\u001b[0m\u001b[0;34m:\u001b[0m\u001b[0;34m\u001b[0m\u001b[0m\n\u001b[1;32m     63\u001b[0m                 \u001b[0;32mtry\u001b[0m\u001b[0;34m:\u001b[0m \u001b[0mroot\u001b[0m \u001b[0;34m=\u001b[0m \u001b[0mnltk\u001b[0m\u001b[0;34m.\u001b[0m\u001b[0mdata\u001b[0m\u001b[0;34m.\u001b[0m\u001b[0mfind\u001b[0m\u001b[0;34m(\u001b[0m\u001b[0;34m'corpora/%s'\u001b[0m \u001b[0;34m%\u001b[0m \u001b[0mzip_name\u001b[0m\u001b[0;34m)\u001b[0m\u001b[0;34m\u001b[0m\u001b[0m\n\u001b[0;32m---> 64\u001b[0;31m                 \u001b[0;32mexcept\u001b[0m \u001b[0mLookupError\u001b[0m\u001b[0;34m:\u001b[0m \u001b[0;32mraise\u001b[0m \u001b[0me\u001b[0m\u001b[0;34m\u001b[0m\u001b[0m\n\u001b[0m\u001b[1;32m     65\u001b[0m \u001b[0;34m\u001b[0m\u001b[0m\n\u001b[1;32m     66\u001b[0m         \u001b[0;31m# Load the corpus.\u001b[0m\u001b[0;34m\u001b[0m\u001b[0;34m\u001b[0m\u001b[0m\n",
      "\u001b[0;31mLookupError\u001b[0m: \n**********************************************************************\n  Resource u'corpora/stopwords' not found.  Please use the NLTK\n  Downloader to obtain the resource:  >>> nltk.download()\n  Searched in:\n    - '/Users/michal-roz/nltk_data'\n    - '/usr/share/nltk_data'\n    - '/usr/local/share/nltk_data'\n    - '/usr/lib/nltk_data'\n    - '/usr/local/lib/nltk_data'\n**********************************************************************"
     ]
    }
   ],
   "source": [
    "df = data.transform(f, verbose=True)\n",
    "df.head()"
   ]
  },
  {
   "cell_type": "code",
   "execution_count": 6,
   "metadata": {
    "collapsed": false
   },
   "outputs": [
    {
     "ename": "NameError",
     "evalue": "name 'df' is not defined",
     "output_type": "error",
     "traceback": [
      "\u001b[0;31m---------------------------------------------------------------------------\u001b[0m",
      "\u001b[0;31mNameError\u001b[0m                                 Traceback (most recent call last)",
      "\u001b[0;32m<ipython-input-6-023389c96871>\u001b[0m in \u001b[0;36m<module>\u001b[0;34m()\u001b[0m\n\u001b[0;32m----> 1\u001b[0;31m \u001b[0mdf\u001b[0m\u001b[0;34m[\u001b[0m\u001b[0;34m'match_id_timestamp_unixtime'\u001b[0m\u001b[0;34m]\u001b[0m\u001b[0;34m.\u001b[0m\u001b[0mhead\u001b[0m\u001b[0;34m(\u001b[0m\u001b[0;34m)\u001b[0m \u001b[0;31m# and one more\u001b[0m\u001b[0;34m\u001b[0m\u001b[0m\n\u001b[0m",
      "\u001b[0;31mNameError\u001b[0m: name 'df' is not defined"
     ]
    }
   ],
   "source": [
    "df['match_id_timestamp_unixtime'].head() # and one more"
   ]
  },
  {
   "cell_type": "code",
   "execution_count": null,
   "metadata": {
    "collapsed": true
   },
   "outputs": [],
   "source": []
  }
 ],
 "metadata": {
  "anaconda-cloud": {},
  "kernelspec": {
   "display_name": "Python 3",
   "language": "python",
   "name": "python3"
  },
  "language_info": {
   "codemirror_mode": {
    "name": "ipython",
    "version": 3
   },
   "file_extension": ".py",
   "mimetype": "text/x-python",
   "name": "python",
   "nbconvert_exporter": "python",
   "pygments_lexer": "ipython3",
   "version": "3.5.2"
  }
 },
 "nbformat": 4,
 "nbformat_minor": 1
}
